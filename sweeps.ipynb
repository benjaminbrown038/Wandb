{
  "nbformat": 4,
  "nbformat_minor": 0,
  "metadata": {
    "colab": {
      "provenance": [],
      "authorship_tag": "ABX9TyMe4ZV9mV4RsqUgW+1QMZ0G",
      "include_colab_link": true
    },
    "kernelspec": {
      "name": "python3",
      "display_name": "Python 3"
    },
    "language_info": {
      "name": "python"
    }
  },
  "cells": [
    {
      "cell_type": "markdown",
      "metadata": {
        "id": "view-in-github",
        "colab_type": "text"
      },
      "source": [
        "<a href=\"https://colab.research.google.com/github/benjaminbrown038/Wandb/blob/main/sweeps.ipynb\" target=\"_parent\"><img src=\"https://colab.research.google.com/assets/colab-badge.svg\" alt=\"Open In Colab\"/></a>"
      ]
    },
    {
      "cell_type": "code",
      "execution_count": null,
      "metadata": {
        "id": "cZnSiRKtKcQP"
      },
      "outputs": [],
      "source": []
    },
    {
      "cell_type": "markdown",
      "source": [],
      "metadata": {
        "id": "7HCyoJInKfS5"
      }
    },
    {
      "cell_type": "markdown",
      "source": [],
      "metadata": {
        "id": "tew8BG6qKfVt"
      }
    },
    {
      "cell_type": "markdown",
      "source": [],
      "metadata": {
        "id": "VPuVnMXTKfYk"
      }
    },
    {
      "cell_type": "markdown",
      "source": [],
      "metadata": {
        "id": "ZZzvUvLaKfbc"
      }
    },
    {
      "cell_type": "markdown",
      "source": [],
      "metadata": {
        "id": "Lwk2oS8NKfeT"
      }
    },
    {
      "cell_type": "markdown",
      "source": [],
      "metadata": {
        "id": "HsunYNG4Kfg6"
      }
    },
    {
      "cell_type": "markdown",
      "source": [],
      "metadata": {
        "id": "iXyDvM28Kfi_"
      }
    },
    {
      "cell_type": "markdown",
      "source": [],
      "metadata": {
        "id": "oklspckRKfl6"
      }
    },
    {
      "cell_type": "markdown",
      "source": [],
      "metadata": {
        "id": "Fa0VjV_xKfo-"
      }
    },
    {
      "cell_type": "markdown",
      "source": [],
      "metadata": {
        "id": "iPrzinfzKfqz"
      }
    },
    {
      "cell_type": "code",
      "source": [],
      "metadata": {
        "id": "d29EOh63Kfx2"
      },
      "execution_count": null,
      "outputs": []
    },
    {
      "cell_type": "markdown",
      "source": [],
      "metadata": {
        "id": "95AA1pf1Kf3D"
      }
    },
    {
      "cell_type": "code",
      "source": [],
      "metadata": {
        "id": "UIL8akZtKf8A"
      },
      "execution_count": null,
      "outputs": []
    },
    {
      "cell_type": "markdown",
      "source": [],
      "metadata": {
        "id": "ipckaui8KgAc"
      }
    },
    {
      "cell_type": "code",
      "source": [],
      "metadata": {
        "id": "YlkaH378KgFH"
      },
      "execution_count": null,
      "outputs": []
    },
    {
      "cell_type": "markdown",
      "source": [],
      "metadata": {
        "id": "cG9_t0ujKgKE"
      }
    },
    {
      "cell_type": "code",
      "source": [],
      "metadata": {
        "id": "wkRYpcQJKgOw"
      },
      "execution_count": null,
      "outputs": []
    },
    {
      "cell_type": "markdown",
      "source": [],
      "metadata": {
        "id": "MQEMGQdRKgT9"
      }
    },
    {
      "cell_type": "code",
      "source": [],
      "metadata": {
        "id": "wngcU7MzKgYp"
      },
      "execution_count": null,
      "outputs": []
    },
    {
      "cell_type": "markdown",
      "source": [],
      "metadata": {
        "id": "QLn0kx4OKgdU"
      }
    },
    {
      "cell_type": "code",
      "source": [],
      "metadata": {
        "id": "0fDK43ROKgia"
      },
      "execution_count": null,
      "outputs": []
    },
    {
      "cell_type": "markdown",
      "source": [],
      "metadata": {
        "id": "DMWARB46KgnO"
      }
    },
    {
      "cell_type": "code",
      "source": [],
      "metadata": {
        "id": "FYBMiOdVKgs8"
      },
      "execution_count": null,
      "outputs": []
    },
    {
      "cell_type": "markdown",
      "source": [],
      "metadata": {
        "id": "EAZ7HO3nKgyE"
      }
    },
    {
      "cell_type": "code",
      "source": [],
      "metadata": {
        "id": "XJBM3LmiKg35"
      },
      "execution_count": null,
      "outputs": []
    }
  ]
}