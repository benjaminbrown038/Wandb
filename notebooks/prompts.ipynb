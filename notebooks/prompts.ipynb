{
  "nbformat": 4,
  "nbformat_minor": 0,
  "metadata": {
    "colab": {
      "provenance": [],
      "authorship_tag": "ABX9TyMe4ZV9mV4RsqUgW+1QMZ0G",
      "include_colab_link": true
    },
    "kernelspec": {
      "name": "python3",
      "display_name": "Python 3"
    },
    "language_info": {
      "name": "python"
    }
  },
  "cells": [
    {
      "cell_type": "markdown",
      "metadata": {
        "id": "view-in-github",
        "colab_type": "text"
      },
      "source": [
        "<a href=\"https://colab.research.google.com/github/benjaminbrown038/Wandb/blob/main/prompts.ipynb\" target=\"_parent\"><img src=\"https://colab.research.google.com/assets/colab-badge.svg\" alt=\"Open In Colab\"/></a>"
      ]
    },
    {
      "cell_type": "code",
      "execution_count": null,
      "metadata": {
        "id": "SUyR3b35H_RX"
      },
      "outputs": [],
      "source": []
    },
    {
      "cell_type": "markdown",
      "source": [],
      "metadata": {
        "id": "R05gp4UQIkzJ"
      }
    },
    {
      "cell_type": "markdown",
      "source": [],
      "metadata": {
        "id": "KPSJlrmvIk4j"
      }
    },
    {
      "cell_type": "markdown",
      "source": [],
      "metadata": {
        "id": "4ziZwthXIk7a"
      }
    },
    {
      "cell_type": "markdown",
      "source": [],
      "metadata": {
        "id": "1jEUfgo_Ik-W"
      }
    },
    {
      "cell_type": "markdown",
      "source": [],
      "metadata": {
        "id": "_p_sMD_8IlBJ"
      }
    },
    {
      "cell_type": "markdown",
      "source": [],
      "metadata": {
        "id": "f1Av9wH-IlDv"
      }
    },
    {
      "cell_type": "markdown",
      "source": [],
      "metadata": {
        "id": "hrcZ5f2uIlGW"
      }
    },
    {
      "cell_type": "markdown",
      "source": [],
      "metadata": {
        "id": "AkAS6WfNIlI9"
      }
    },
    {
      "cell_type": "markdown",
      "source": [],
      "metadata": {
        "id": "7Njiv-wPIlMn"
      }
    },
    {
      "cell_type": "markdown",
      "source": [],
      "metadata": {
        "id": "UoP54qqSIlPu"
      }
    },
    {
      "cell_type": "code",
      "source": [],
      "metadata": {
        "id": "MDlvSuqzIlXV"
      },
      "execution_count": null,
      "outputs": []
    },
    {
      "cell_type": "markdown",
      "source": [],
      "metadata": {
        "id": "43Y63Kn0Ilbt"
      }
    },
    {
      "cell_type": "code",
      "source": [],
      "metadata": {
        "id": "6nwoLQfhIlgJ"
      },
      "execution_count": null,
      "outputs": []
    },
    {
      "cell_type": "markdown",
      "source": [],
      "metadata": {
        "id": "kfTsbjONIllF"
      }
    },
    {
      "cell_type": "code",
      "source": [],
      "metadata": {
        "id": "I0se4cR2Ilpx"
      },
      "execution_count": null,
      "outputs": []
    },
    {
      "cell_type": "markdown",
      "source": [],
      "metadata": {
        "id": "Q8DHOpzYIlue"
      }
    },
    {
      "cell_type": "code",
      "source": [],
      "metadata": {
        "id": "U63jA0P1Ilzr"
      },
      "execution_count": null,
      "outputs": []
    },
    {
      "cell_type": "markdown",
      "source": [],
      "metadata": {
        "id": "Cg0itJ9cIl4a"
      }
    },
    {
      "cell_type": "code",
      "source": [],
      "metadata": {
        "id": "x8zw6ysWIl8h"
      },
      "execution_count": null,
      "outputs": []
    },
    {
      "cell_type": "markdown",
      "source": [],
      "metadata": {
        "id": "hFaq5pMhImA9"
      }
    },
    {
      "cell_type": "code",
      "source": [],
      "metadata": {
        "id": "uNMErP3EImFp"
      },
      "execution_count": null,
      "outputs": []
    },
    {
      "cell_type": "markdown",
      "source": [],
      "metadata": {
        "id": "Q65qMCqwImKV"
      }
    },
    {
      "cell_type": "code",
      "source": [],
      "metadata": {
        "id": "bekmr71fImPR"
      },
      "execution_count": null,
      "outputs": []
    },
    {
      "cell_type": "markdown",
      "source": [],
      "metadata": {
        "id": "j4xjY62WImTt"
      }
    },
    {
      "cell_type": "code",
      "source": [],
      "metadata": {
        "id": "-OiIb1-fImYZ"
      },
      "execution_count": null,
      "outputs": []
    }
  ]
}