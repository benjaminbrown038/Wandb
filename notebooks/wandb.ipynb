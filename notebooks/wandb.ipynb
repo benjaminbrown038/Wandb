{
  "cells": [
    {
      "cell_type": "markdown",
      "metadata": {
        "id": "view-in-github",
        "colab_type": "text"
      },
      "source": [
        "<a href=\"https://colab.research.google.com/github/benjaminbrown038/WANDB/blob/main/notebooks/wandb.ipynb\" target=\"_parent\"><img src=\"https://colab.research.google.com/assets/colab-badge.svg\" alt=\"Open In Colab\"/></a>"
      ]
    },
    {
      "cell_type": "markdown",
      "source": [],
      "metadata": {
        "id": "u9aJjTy6TGYG"
      }
    },
    {
      "cell_type": "markdown",
      "source": [],
      "metadata": {
        "id": "oO41VmYDTQOt"
      }
    },
    {
      "cell_type": "markdown",
      "source": [],
      "metadata": {
        "id": "4NrH8JC5TQSH"
      }
    },
    {
      "cell_type": "markdown",
      "source": [],
      "metadata": {
        "id": "CPRhNmKFTQVx"
      }
    },
    {
      "cell_type": "code",
      "source": [],
      "metadata": {
        "id": "qJS0GYstTLJu"
      },
      "execution_count": null,
      "outputs": []
    },
    {
      "cell_type": "markdown",
      "source": [],
      "metadata": {
        "id": "VKbyfaKPTLP_"
      }
    },
    {
      "cell_type": "code",
      "source": [],
      "metadata": {
        "id": "Nb6DyTteTLU6"
      },
      "execution_count": null,
      "outputs": []
    },
    {
      "cell_type": "markdown",
      "source": [],
      "metadata": {
        "id": "GQCYmOhjTLaZ"
      }
    },
    {
      "cell_type": "code",
      "source": [],
      "metadata": {
        "id": "oztXwzy0TLfm"
      },
      "execution_count": null,
      "outputs": []
    },
    {
      "cell_type": "markdown",
      "source": [],
      "metadata": {
        "id": "8roeQoB7TLkp"
      }
    },
    {
      "cell_type": "code",
      "source": [],
      "metadata": {
        "id": "BG1Fia90TLpR"
      },
      "execution_count": null,
      "outputs": []
    },
    {
      "cell_type": "markdown",
      "source": [],
      "metadata": {
        "id": "pP-h1C7YTLu-"
      }
    },
    {
      "cell_type": "code",
      "source": [],
      "metadata": {
        "id": "VM-i00RcTLz6"
      },
      "execution_count": null,
      "outputs": []
    },
    {
      "cell_type": "markdown",
      "source": [],
      "metadata": {
        "id": "qDMaL5hnTL43"
      }
    },
    {
      "cell_type": "code",
      "source": [],
      "metadata": {
        "id": "ZhXhq20nTL90"
      },
      "execution_count": null,
      "outputs": []
    },
    {
      "cell_type": "markdown",
      "source": [],
      "metadata": {
        "id": "uf-pc6jJTMDB"
      }
    },
    {
      "cell_type": "code",
      "source": [],
      "metadata": {
        "id": "WvVr1UyVTMHc"
      },
      "execution_count": null,
      "outputs": []
    },
    {
      "cell_type": "markdown",
      "source": [],
      "metadata": {
        "id": "Ej1ELeaLTMNM"
      }
    },
    {
      "cell_type": "markdown",
      "source": [],
      "metadata": {
        "id": "JAIIxHItTMSJ"
      }
    },
    {
      "cell_type": "code",
      "source": [],
      "metadata": {
        "id": "WnLJ1YrbTMZ8"
      },
      "execution_count": null,
      "outputs": []
    },
    {
      "cell_type": "markdown",
      "source": [],
      "metadata": {
        "id": "qDt72HYzTMe4"
      }
    },
    {
      "cell_type": "code",
      "source": [],
      "metadata": {
        "id": "N7tsceuOTMkF"
      },
      "execution_count": null,
      "outputs": []
    },
    {
      "cell_type": "markdown",
      "source": [],
      "metadata": {
        "id": "zs0hA9kQTMra"
      }
    },
    {
      "cell_type": "code",
      "source": [],
      "metadata": {
        "id": "JKpHnn0nTMwo"
      },
      "execution_count": null,
      "outputs": []
    },
    {
      "cell_type": "markdown",
      "source": [],
      "metadata": {
        "id": "sOhe8N4sTM1z"
      }
    },
    {
      "cell_type": "code",
      "source": [],
      "metadata": {
        "id": "JrEotKpvTNAv"
      },
      "execution_count": null,
      "outputs": []
    },
    {
      "cell_type": "markdown",
      "source": [],
      "metadata": {
        "id": "cypOl8BhTNIT"
      }
    },
    {
      "cell_type": "code",
      "source": [],
      "metadata": {
        "id": "y3Q7o0i2TNNy"
      },
      "execution_count": null,
      "outputs": []
    },
    {
      "cell_type": "markdown",
      "source": [],
      "metadata": {
        "id": "qSGnke4yTNTg"
      }
    },
    {
      "cell_type": "code",
      "source": [],
      "metadata": {
        "id": "i3vgppf_TNY_"
      },
      "execution_count": null,
      "outputs": []
    },
    {
      "cell_type": "markdown",
      "source": [],
      "metadata": {
        "id": "CaTfDudgTNer"
      }
    },
    {
      "cell_type": "code",
      "source": [],
      "metadata": {
        "id": "GzSfa-n9TGde"
      },
      "execution_count": null,
      "outputs": []
    },
    {
      "cell_type": "markdown",
      "source": [],
      "metadata": {
        "id": "RvwoXEsrTGjd"
      }
    }
  ],
  "metadata": {
    "accelerator": "GPU",
    "colab": {
      "provenance": [],
      "include_colab_link": true
    },
    "kernelspec": {
      "display_name": "Python 3",
      "name": "python3"
    }
  },
  "nbformat": 4,
  "nbformat_minor": 0
}