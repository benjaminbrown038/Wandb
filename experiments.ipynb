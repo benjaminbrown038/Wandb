{
  "nbformat": 4,
  "nbformat_minor": 0,
  "metadata": {
    "colab": {
      "provenance": [],
      "authorship_tag": "ABX9TyOhpUcFs2X2chQOti2r5sAo",
      "include_colab_link": true
    },
    "kernelspec": {
      "name": "python3",
      "display_name": "Python 3"
    },
    "language_info": {
      "name": "python"
    }
  },
  "cells": [
    {
      "cell_type": "markdown",
      "metadata": {
        "id": "view-in-github",
        "colab_type": "text"
      },
      "source": [
        "<a href=\"https://colab.research.google.com/github/benjaminbrown038/Wandb/blob/main/experiments.ipynb\" target=\"_parent\"><img src=\"https://colab.research.google.com/assets/colab-badge.svg\" alt=\"Open In Colab\"/></a>"
      ]
    },
    {
      "cell_type": "code",
      "execution_count": null,
      "metadata": {
        "id": "DZgu2seSkK8J"
      },
      "outputs": [],
      "source": []
    },
    {
      "cell_type": "markdown",
      "source": [],
      "metadata": {
        "id": "ljrVPMZ7kPm3"
      }
    },
    {
      "cell_type": "markdown",
      "source": [],
      "metadata": {
        "id": "LKV3swEDkPqN"
      }
    },
    {
      "cell_type": "code",
      "source": [],
      "metadata": {
        "id": "f2GsXLeGkPtV"
      },
      "execution_count": null,
      "outputs": []
    },
    {
      "cell_type": "markdown",
      "source": [],
      "metadata": {
        "id": "OrBo3qdwkP2M"
      }
    },
    {
      "cell_type": "code",
      "source": [],
      "metadata": {
        "id": "jPqTBjfSkP7Z"
      },
      "execution_count": null,
      "outputs": []
    },
    {
      "cell_type": "markdown",
      "source": [],
      "metadata": {
        "id": "Oh115NkIkP_k"
      }
    },
    {
      "cell_type": "code",
      "source": [],
      "metadata": {
        "id": "YCmjiVrokQI8"
      },
      "execution_count": null,
      "outputs": []
    },
    {
      "cell_type": "markdown",
      "source": [],
      "metadata": {
        "id": "qwKb4sAhkQRi"
      }
    },
    {
      "cell_type": "code",
      "source": [],
      "metadata": {
        "id": "V3egON5okQV8"
      },
      "execution_count": null,
      "outputs": []
    },
    {
      "cell_type": "markdown",
      "source": [],
      "metadata": {
        "id": "MWyIozuxkQa6"
      }
    },
    {
      "cell_type": "code",
      "source": [],
      "metadata": {
        "id": "QlEXJN7zkQfE"
      },
      "execution_count": null,
      "outputs": []
    }
  ]
}